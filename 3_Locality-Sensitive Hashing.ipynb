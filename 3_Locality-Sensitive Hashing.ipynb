{
  "cells": [
    {
      "cell_type": "markdown",
      "metadata": {
        "id": "ibz2uKkxjIlY"
      },
      "source": [
        "# **Bài tập lớn - Homework 1 - CS246**\n",
        "# **Bài 3: Locality-Sensitive Hashing**\n",
        "**Lớp học phần: DAT712_222_8_L14**\n",
        "\n",
        "**Thành viên nhóm:**\n",
        "* **Trịnh Nguyễn Nhật An - MSSV: 050608200222**\n",
        "* **Nguyễn Hữu Viết Ngọc - MSSV: 050608200489**\n",
        "* **Võ Ngọc Khánh Vy - MSSV: 050608200791**\n",
        "\n"
      ]
    },
    {
      "attachments": {},
      "cell_type": "markdown",
      "metadata": {
        "id": "xq3LF_zdjMrT"
      },
      "source": [
        "## **Câu (a)**"
      ]
    },
    {
      "cell_type": "markdown",
      "metadata": {
        "id": "TE6Wx-wXt-op"
      },
      "source": [
        "Số cột có m số 1 trong số n dòng là $\\begin{pmatrix}n\\\\m\\end{pmatrix}$. \n",
        "Số cột không có số 1 trong k hàng đã chọn là $\\begin{pmatrix}n-k\\\\m\\end{pmatrix}$. \n",
        "\n",
        "Do đó, xác suất không có 1 trong k hàng đã chọn bằng công thức thứ 2 ở trên chia cho công thức đầu tiêntiên. \n",
        "\n",
        "Nếu ta khai triển các hệ số nhị thức dưới dạng giai thừa, ta có $\\dfrac{(n-k)!m!(n-m)!}{m!(n-k-m)!n!}$. \n",
        "\n",
        "Biểu thức m! bị triệt tiêu và khi sắp xếp lại, ta có biểu thức này dưới dạng ($\\dfrac {n-k}{n})$ ($\\dfrac {n-k-1}{n-1})\\dotsm$ ($\\dfrac{n-k-m+1}{n-m+1}$). \n",
        "\n",
        "Với mỗi m có giá trị tối đa là ($\\dfrac{n-k}{n}$), tích của nó là $\\left(\\dfrac{n-k}{n}\\right)^m$"
      ]
    },
    {
      "attachments": {},
      "cell_type": "markdown",
      "metadata": {
        "id": "yw8DtXLQ7lQ0"
      },
      "source": [
        "## **Câu (b)**\n"
      ]
    },
    {
      "cell_type": "markdown",
      "metadata": {
        "id": "C4ZRiQL47ntd"
      },
      "source": [
        "Ta có: $\\left(\\dfrac{n-k}{n}\\right)^m \\leq e^{-10}$ $\\iff$ $\\left(1-\\dfrac{k}{n}\\right)^m < e^{-10}$. \n",
        "\n",
        "Nhân và chia số mũ cho $\\dfrac{n}{k}$, \n",
        "\n",
        "$\\iff$ $\\left(\\left(1-\\dfrac{k}{n}\\right)^{\\frac{n}{k}}\\right)^{\\frac{mk}{n}} \\leq e^{-10}$\n",
        "\n",
        "Giả sử $k \\ll n$, thì $\\left(1-\\dfrac{k}{n}\\right)^{\\frac{n}{k}}$ ≈ $\\dfrac{1}{e}$. \n",
        "\n",
        "Khi ấy, $e^{-\\frac{mk}{n}} \\leq e^{-10}$\n",
        "\n",
        "$\\iff$ ${-\\frac{mk}{n}} \\leq -10$ hoặc ${\\frac{mk}{n}} \\geq -10$ \n",
        "\n",
        "$\\iff$ $k \\geq \\dfrac{10n}{m}$\n",
        "\n",
        "Vì vậy, cận dưới của k là $\\dfrac{10n}{m}$\n",
        "\n",
        "\n"
      ]
    },
    {
      "attachments": {},
      "cell_type": "markdown",
      "metadata": {
        "id": "FfbnC7iJFFii"
      },
      "source": [
        "## **Câu (c)**"
      ]
    },
    {
      "cell_type": "markdown",
      "metadata": {
        "id": "UQY1tYorFJcI"
      },
      "source": [
        "Hai cột là [0,1,0]$^T$ và [0,1,1]$^T$. \n",
        "\n",
        "Độ tương tự của Jaccard = 0.5\n",
        "\n",
        "Nếu chu kì bắt đầu tại một trong hai hàng đầu tiên, thì các giá trị hàm băm nhỏ nhất bằng nhau. \n",
        "\n",
        "Nếu bắt đầu tại hàng cuối cùng thì hàm băm cho phép giá trị nhỏ nhất là 2/3, chỉ khi có hoán vị theo chu kì."
      ]
    }
  ],
  "metadata": {
    "colab": {
      "provenance": []
    },
    "kernelspec": {
      "display_name": "Python 3",
      "name": "python3"
    },
    "language_info": {
      "name": "python"
    }
  },
  "nbformat": 4,
  "nbformat_minor": 0
}
